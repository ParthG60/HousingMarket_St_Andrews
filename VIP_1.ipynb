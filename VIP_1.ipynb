{
  "nbformat": 4,
  "nbformat_minor": 0,
  "metadata": {
    "colab": {
      "name": "VIP_1.ipynb",
      "provenance": [],
      "collapsed_sections": [],
      "toc_visible": true,
      "include_colab_link": true
    },
    "kernelspec": {
      "name": "python3",
      "display_name": "Python 3"
    },
    "language_info": {
      "name": "python"
    }
  },
  "cells": [
    {
      "cell_type": "markdown",
      "metadata": {
        "id": "view-in-github",
        "colab_type": "text"
      },
      "source": [
        "<a href=\"https://colab.research.google.com/github/ParthG60/HousingMarket_St_Andrews/blob/main/VIP_1.ipynb\" target=\"_parent\"><img src=\"https://colab.research.google.com/assets/colab-badge.svg\" alt=\"Open In Colab\"/></a>"
      ]
    },
    {
      "cell_type": "code",
      "source": [
        ""
      ],
      "metadata": {
        "id": "eFKbRq9uhQsQ"
      },
      "execution_count": null,
      "outputs": []
    },
    {
      "cell_type": "markdown",
      "source": [
        "# Intro to Colab\n"
      ],
      "metadata": {
        "id": "UGN4UZAzpBJT"
      }
    },
    {
      "cell_type": "markdown",
      "source": [
        "## Draft 2 of maple model in python. With demand curves "
      ],
      "metadata": {
        "id": "ZGsJLsdUqEdx"
      }
    },
    {
      "cell_type": "code",
      "source": [
        "import matplotlib.pyplot as plt \n",
        "import numpy as np\n",
        "import math\n",
        "from scipy.optimize import fsolve\n",
        "# ^^^ these are the relevant libraries an packages\n",
        "\n",
        "coef = [7/5000,1,40]   # coeffiecients a,b,c for the utility function\n",
        "\n",
        "sig = 20 #variance/sigma for error term\n",
        "\n",
        "U_notSTA = -400     #disutility of not being in St Andrews\n",
        "Income_levels = [20000,40000]     #low income ,high income\n",
        "Degree_levels = [1,0]        # Binary values 1 = UG, 0 = PG\n",
        "Num_Students = [8260,2164]       # Number of UGs, Number of PGs\n",
        "Probabilites = [0.4,0.35]        # Probabilities that a low income group will choose to stay in StA UG_low,PG_low,\n",
        "Quantity = 6000       # number of available rooms\n",
        "e = math.e        # initialising eulers number\n",
        "\n",
        "def demand(R):    # Function gives us the equation we want to solve and variable we are solving for. R stands for Rent\n",
        "    #UGL stands for demand St_A for UG_low. Rest of the variable names follow the same logic\n",
        "\n",
        "    UGL = Probabilites[0]*Num_Students[0]*(PSA(coef[0]*Income_levels[0] - coef[1]*R + coef[2]*Degree_levels[0]))\n",
        "    UGH = (1-Probabilites[0])*Num_Students[0]*(PSA(coef[0]*Income_levels[1] - coef[1]*R + coef[2]*Degree_levels[0]))\n",
        "    PGL =Probabilites[1]*Num_Students[1]*(PSA(coef[0]*Income_levels[0] - coef[1]*R + coef[2]*Degree_levels[1]))\n",
        "    PGH =(1-Probabilites[1])*Num_Students[1]*(PSA(coef[0]*Income_levels[1] - coef[1]*R + coef[2]*Degree_levels[1]))\n",
        "\n",
        "    # total demand = demand UG_low + demand UG_high + demand PG_low+ demand PG_high\n",
        "    equation = UGL+UGH+PGL+PGH-Quantity\n",
        "    # I have subtractred quantity here because function fsolve solves the equation for the root\n",
        "    return equation  # returns the equation with variable R\n",
        "def PSA(utility):\n",
        "  return  (1-1 / (1 + e**((utility - U_notSTA)/sig)))\n",
        "\n",
        "R_guess = 500  # my guess for what  the root can be\n",
        "R = fsolve(demand,R_guess)  # fsolve gives us the actual root regardless of the guess.\n",
        "# the guess is just used to hint at which side of the root we may want -ve or +ve. In this case -ve doesn't make sense\n",
        "print(R)\n",
        "\n",
        "#plotting the demand curve\n",
        "x = np.arange(300, 800, 0.1)\n",
        "y = demand(x)+Quantity\n",
        "plt.xlabel('Rent')\n",
        "plt.ylabel('Quantity')\n",
        "plt.plot(x,y)\n",
        "plt.show()\n",
        "\n",
        "\n",
        "\"\"\"UG_L = Probabilites[0]*Num_Students[0]*(PSA(coef[0]*Income_levels[0] - coef[1]*x + coef[2]*Degree_levels[0]))\n",
        "UG_H = (1-Probabilites[0])*Num_Students[0]*(PSA(coef[0]*Income_levels[1] - coef[1]*x + coef[2]*Degree_levels[0]))\n",
        "PG_L =Probabilites[1]*Num_Students[1]*(PSA(coef[0]*Income_levels[0] - coef[1]*x + coef[2]*Degree_levels[1]))\n",
        "PG_H =(1-Probabilites[1])*Num_Students[1]*(PSA(coef[0]*Income_levels[1] - coef[1]*x + coef[2]*Degree_levels[1]))\n",
        "plt.plot(x, UG_L)\n",
        "plt.plot(x, UG_H)\n",
        "plt.plot(x, PG_L)\n",
        "plt.plot(x, PG_H)\"\"\"   # this block of code plots individual demand components\n",
        "\n",
        "# when sig = 20 then R=470.13132  Luc's R = 470.13132"
      ],
      "metadata": {
        "colab": {
          "base_uri": "https://localhost:8080/",
          "height": 367
        },
        "id": "b2yn_-40T9Vg",
        "outputId": "3512d695-b13c-466e-d72d-4f3473e1cadd"
      },
      "execution_count": null,
      "outputs": [
        {
          "output_type": "stream",
          "name": "stdout",
          "text": [
            "[470.13132444]\n"
          ]
        },
        {
          "output_type": "display_data",
          "data": {
            "image/png": "[encoded data removed]",
            "text/plain": [
              "<Figure size 432x288 with 1 Axes>"
            ]
          },
          "metadata": {
            "needs_background": "light"
          }
        },
        {
          "output_type": "execute_result",
          "data": {
            "application/vnd.google.colaboratory.intrinsic+json": {
              "type": "string"
            },
            "text/plain": [
              "'UG_L = Probabilites[0]*Num_Students[0]*(PSA(coef[0]*Income_levels[0] - coef[1]*x + coef[2]*Degree_levels[0]))\\nUG_H = (1-Probabilites[0])*Num_Students[0]*(PSA(coef[0]*Income_levels[1] - coef[1]*x + coef[2]*Degree_levels[0]))\\nPG_L =Probabilites[1]*Num_Students[1]*(PSA(coef[0]*Income_levels[0] - coef[1]*x + coef[2]*Degree_levels[1]))\\nPG_H =(1-Probabilites[1])*Num_Students[1]*(PSA(coef[0]*Income_levels[1] - coef[1]*x + coef[2]*Degree_levels[1]))\\nplt.plot(x, UG_L)\\nplt.plot(x, UG_H)\\nplt.plot(x, PG_L)\\nplt.plot(x, PG_H)'"
            ]
          },
          "metadata": {},
          "execution_count": 2
        }
      ]
    },
    {
      "cell_type": "code",
      "source": [
        "print(2%3)"
      ],
      "metadata": {
        "id": "d8Wf1l6ya3oG"
      },
      "execution_count": null,
      "outputs": []
    },
    {
      "cell_type": "markdown",
      "source": [
        "# Draft 1 of Recreation of Luc's Maple model\n",
        "\n",
        "1.   List item\n",
        "2.   List item\n",
        "\n"
      ],
      "metadata": {
        "id": "B4LkRb2JqPRq"
      }
    },
    {
      "cell_type": "code",
      "source": [
        "import numpy as np\n",
        "import math\n",
        "from scipy.optimize import fsolve\n",
        "# ^^^ these are the relevant libraries an packages\n",
        "\n",
        "coef = [7/5000,1,40]   # coeffiecients a,b,c for the utility function\n",
        "\n",
        "sig = 20 #variance/sigma for error term\n",
        "\n",
        "U_notSTA = -400 #disutility of not being in St Andrews\n",
        "Income_levels = [20000,40000]  #low income ,high income\n",
        "Degree_levels = [1,0]  # Binary values 1 = UG, 0 = PG\n",
        "Num_Students = [8260,2164]  # Number of UGs, Number of PGs\n",
        "Probabilites = [0.4,0.6,0.35,0.65]   # Probabilities that a certain group will choose to stay in StA UG_low, UG_high, PG_low, PG_high\n",
        "Quantity = 6000  # number of available rooms\n",
        "e = math.e  # initialising eulers number\n",
        "\n",
        "def f(R):    # Function gives us the equation we want to solve and variable we are solving for. R stands for Rent\n",
        "    #UGL stands for demand St_A for UG_low. Rest of the variable names follow the same logic\n",
        "    UGL =Probabilites[0]*Num_Students[0]*(1 - 1 / (1 + e ** ((coef[0]*Income_levels[0] - coef[1]*R + coef[2]*Degree_levels[0] - U_notSTA)/sig)))\n",
        "    UGH =Probabilites[1]*Num_Students[0]*(1 - 1 / (1 + e ** ((coef[0]*Income_levels[1] - coef[1]*R + coef[2]*Degree_levels[0] - U_notSTA)/sig)))\n",
        "    PGL =Probabilites[2]*Num_Students[1]*(1 - 1 / (1 + e ** ((coef[0]*Income_levels[0] - coef[1]*R + coef[2]*Degree_levels[1] - U_notSTA)/sig)))\n",
        "    PGH =Probabilites[3]*Num_Students[1]*(1 - 1 / (1 + e ** ((coef[0]*Income_levels[1] - coef[1]*R + coef[2]*Degree_levels[1] - U_notSTA)/sig)))\n",
        "    # total demand = demand UG_low + demand UG_high + demand PG_low+ demand PG_high\n",
        "    equation = UGL+UGH+PGL+PGH-Quantity\n",
        "    # I have subtractred quantity here because function fsolve solves the equation for the root\n",
        "    return equation # returns the equation with variable R\n",
        "\n",
        "R_guess = 500  # my guess for what  the root can be\n",
        "R = fsolve(f,R_guess)  # fsolve gives us the actual root regardless of the guess.\n",
        "# the guess is just used to hint at which side of the root we may want -ve or +ve. In this case -ve doesn't make sense\n",
        "print(R)\n",
        "# when sig = 20 then R=470.13132  Luc's R = 470.13132"
      ],
      "metadata": {
        "id": "ZUEI-eIfqYt7",
        "colab": {
          "base_uri": "https://localhost:8080/"
        },
        "outputId": "6dcf155c-d084-4cfc-9eb2-40edaca7e290"
      },
      "execution_count": null,
      "outputs": [
        {
          "output_type": "stream",
          "name": "stdout",
          "text": [
            "[470.13132444]\n"
          ]
        }
      ]
    },
    {
      "cell_type": "markdown",
      "source": [
        "Goals for this week: \n",
        "\n",
        "\n",
        "*   probability and binomial logistic packages\n",
        "*   brainstorm ways to make function scalable (likely through use of loops)\n",
        "*figure out how to plot demand curves\n",
        "\n"
      ],
      "metadata": {
        "id": "A05eaZD4KLv3"
      }
    }
  ]
}