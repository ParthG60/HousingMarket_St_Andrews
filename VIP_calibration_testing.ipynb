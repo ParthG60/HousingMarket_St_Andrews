{
  "cells": [
    {
      "cell_type": "markdown",
      "metadata": {
        "id": "view-in-github",
        "colab_type": "text"
      },
      "source": [
        "<a href=\"https://colab.research.google.com/github/ParthG60/HousingMarket_St_Andrews/blob/main/VIP_calibration_testing.ipynb\" target=\"_parent\"><img src=\"https://colab.research.google.com/assets/colab-badge.svg\" alt=\"Open In Colab\"/></a>"
      ]
    },
    {
      "cell_type": "markdown",
      "metadata": {
        "id": "uvJs7ZjMgWXn"
      },
      "source": [
        "# testing minimization calibration\n"
      ]
    },
    {
      "cell_type": "code",
      "execution_count": null,
      "metadata": {
        "id": "6hM_RZI6gZ6J"
      },
      "outputs": [],
      "source": [
        "import matplotlib.pyplot as plt\n",
        "import numpy as np\n",
        "import math \n",
        "from scipy.optimize import minimize   #find a optimization routine: nlp,maix\n",
        "from scipy.optimize import OptimizeResult\n",
        "import pandas as pd\n",
        "import sympy as sp\n",
        "# ^^^ these are the relevant libraries and packages\n",
        "\n",
        "Disutility_notSTA = 0 #disutility of not being in St Andrews\n",
        "Num_UG= 8260 # Number of undegrards\n",
        "Num_PG = 2164 # Number of postgrads\n",
        "total_students = Num_UG+Num_PG\n",
        "Prop_UG = Num_UG/total_students\n",
        "Prop_PG = Num_PG/total_students\n",
        "#NOTE: UGL - undergrad low income, PGL - postgrad low income and so on\n",
        "# this naming convention is followed throughout the code\n",
        "\n",
        "#Prop_UGL = 0.2 # Proportion of UGLs\n",
        "#Prop_UGH = 1-Prop_UGL # Proportion of UGHs\n",
        "#Prop_PGL = 0.3  # Proportion of PGLs\n",
        "#Prop_PGH = 1-Prop_PGL #Proportion of PGHs\n",
        "Quantity = 7000  # number of available rooms\n",
        "e = math.e  # initialising eulers number\n",
        "#R_guess = 500  # my guess for what equilibirum rent is\n",
        "\n",
        "def PSA(utility,sig,R): # return probability of being in STA based on the sigmoid function\n",
        "  return  (1-1 / (1 + e**((utility - Disutility_notSTA -R)/sig)))\n",
        "  #implicit assumption made here that the error is logistically distributed\n",
        "\n",
        "def demand_UGL(Prop_UGL,WTP_UGL,sig,R):   # calculates demand for Undergrad Low income\n",
        "    UGL = Prop_UGL*Num_UG*(PSA(WTP_UGL,sig,R))\n",
        "    return UGL\n",
        "def demand_UGH(Prop_UGL,WTP_UGH,sig,R):    # calculates demand for Undergrad High income\n",
        "    UGH = (1-Prop_UGL)*Num_UG*(PSA(WTP_UGH,sig,R))\n",
        "    return UGH\n",
        "def demand_PGL(Prop_PGL,WTP_PGL,sig,R):  # calculates demand for Postgrad Low income\n",
        "    PGL = Prop_PGL*Num_PG*(PSA(WTP_PGL,sig,R))\n",
        "    return PGL\n",
        "def demand_PGH(Prop_PGL,WTP_PGH,sig,R):  # calculates demand for Postgrad high income\n",
        "    PGH = (1-Prop_PGL)*Num_PG*(PSA(WTP_PGH,sig,R))\n",
        "    return PGH\n",
        "\n"
      ]
    },
    {
      "cell_type": "code",
      "execution_count": null,
      "metadata": {
        "id": "sAhlVOwwgbvc"
      },
      "outputs": [],
      "source": [
        "def constraint_UG(parameters):    #inequality\n",
        "    (Prop_UGL,Prop_PGL, WTP_UGL, WTP_UGH, WTP_PGL, WTP_PGH, R,sig) = parameters\n",
        "    return WTP_UGH-WTP_UGL-100\n",
        "\n",
        "def constraint_PG(parameters):   #inequality\n",
        "    (Prop_UGL,Prop_PGL, WTP_UGL, WTP_UGH, WTP_PGL, WTP_PGH, R,sig) = parameters\n",
        "    return WTP_PGH-WTP_PGL-100\n",
        "\n",
        "def constraint_demand(parameters): \n",
        "    (Prop_UGL,Prop_PGL, WTP_UGL, WTP_UGH, WTP_PGL, WTP_PGH, R,sig) = parameters\n",
        "    total_demand = demand_UGL(Prop_UGL,WTP_UGL,sig,R)+demand_UGH(Prop_UGL,WTP_UGH,sig,R)+demand_PGL(Prop_PGL,WTP_PGL,sig,R)\n",
        "    +demand_PGH(Prop_UGL,WTP_PGH,sig,R)\n",
        "    return total_demand-Quantity\n",
        "\n",
        "def constraint_elasticity(parameters): \n",
        "    (Prop_UGL,Prop_PGL, WTP_UGL, WTP_UGH, WTP_PGL, WTP_PGH, R,sig) = parameters\n",
        "\n",
        "    total_demand = demand_UGL(Prop_UGL,WTP_UGL,sig,R)+demand_UGH(Prop_UGL,WTP_UGH,sig,R)+demand_PGL(Prop_PGL,WTP_PGL,sig,R)\n",
        "    +demand_PGH(Prop_UGL,WTP_PGH,sig,R)\n",
        "\n",
        "    total_demand_2 = demand_UGL(Prop_UGL,WTP_UGL,sig,R+1)+demand_UGH(Prop_UGL,WTP_UGH,sig,R+1)+demand_PGL(Prop_PGL,WTP_PGL,sig,R+1)\n",
        "    +demand_PGH(Prop_UGL,WTP_PGH,sig,R+1)\n",
        "\n",
        "    return (total_demand_2-total_demand)*R/(total_demand) + 0.76\n",
        "\n",
        "def objective(parameters): # returns all the relevant theoretical moments and parameters to fsolve\n",
        "    (Prop_UGL,Prop_PGL, WTP_UGL, WTP_UGH, WTP_PGL, WTP_PGH, R,sig) = parameters\n",
        "    \n",
        "    total_demand = demand_UGL(Prop_UGL,WTP_UGL,sig,R)+demand_UGH(Prop_UGL,WTP_UGH,sig,R)+demand_PGL(Prop_PGL,WTP_PGL,sig,R) \n",
        "    +demand_PGH(Prop_UGL,WTP_PGH,sig,R)\n",
        "    total_demand_2 = demand_UGL(Prop_UGL,WTP_UGL,sig,R+1)+demand_UGH(Prop_UGL,WTP_UGH,sig,R+1)+demand_PGL(Prop_PGL,WTP_PGL,sig,R+1)\n",
        "    +demand_PGH(Prop_UGL,WTP_PGH,sig,R+1)\n",
        "\n",
        "    Proportion_UGL = demand_UGL(Prop_UGL,WTP_UGL,sig,R)/(Prop_UGL*Num_UG) - 0.6\n",
        "    Proportion_UGH = demand_UGH(Prop_UGL,WTP_UGH,sig,R)/((1-Prop_UGL)*Num_UG) - 0.8\n",
        "    Proportion_PGL = demand_PGL(Prop_PGL,WTP_UGH,sig,R)/(Prop_PGL*Num_PG) - 0.5\n",
        "    Proportion_PGH = demand_PGH(Prop_PGL,WTP_PGH,sig,R)/((1-Prop_PGL)*Num_PG) - 0.7\n",
        "    WTP_difference = WTP_UGL - WTP_UGH - WTP_PGL + WTP_PGH  # should ditch this \n",
        "    # need to add equilibrium \n",
        "    # 584.32 - In StA\n",
        "    # 480  - Out StA\n",
        "    Rent = R - 580\n",
        "    Market_clearing = total_demand-Quantity   # remove quantity as it's not independant\n",
        "    elasticity_D = (total_demand_2-total_demand)*R/(total_demand) + 0.76\n",
        "    #Rent = (Prop_UGL*WTP_UGL +(1-Prop_UGL*WTP_UGH))*Prop_UG + (Prop_PGL*WTP_PGL +(1-Prop_PGL*WTP_PGH))*Prop_PG - 600  #DOUBT ABOUT THIS\n",
        "    error_sum = (Prop_UGL-0.5)**2 + (Prop_PGL-0.5)**2\n",
        "    list_of_equations = [Proportion_UGL,Proportion_UGH,Proportion_PGL,Proportion_PGH,WTP_difference,Market_clearing/7000**0.5,elasticity_D, Rent/600**0.5]\n",
        "    for i in list_of_equations:\n",
        "      error_sum = error_sum + i**2\n",
        "    return error_sum# returning the list of equations\n",
        "\n",
        "    "
      ]
    },
    {
      "cell_type": "code",
      "execution_count": null,
      "metadata": {
        "colab": {
          "background_save": true,
          "base_uri": "https://localhost:8080/"
        },
        "id": "MHFaLyuogcNN",
        "outputId": "38b7a2ba-73b1-48f9-ba21-4354bfa3cb2b"
      },
      "outputs": [
        {
          "data": {
            "text/plain": [
              "     fun: 0.7158289138728645\n",
              "     jac: array([-6.52876563e-01, -1.84217393e-02, -5.57412207e-03, -6.46978617e-04,\n",
              "       -6.46978617e-04,  6.47448003e-04,  5.78711927e-03, -1.23312697e-02])\n",
              " message: 'Optimization terminated successfully.'\n",
              "    nfev: 214\n",
              "     nit: 21\n",
              "    njev: 21\n",
              "  status: 0\n",
              " success: True\n",
              "       x: array([1.73722818e-01, 4.91432248e-01, 5.47418816e+02, 8.45956162e+02,\n",
              "       4.67125043e+02, 7.65662642e+02, 5.79893696e+02, 1.63891662e+01])"
            ]
          },
          "execution_count": null,
          "metadata": {},
          "output_type": "execute_result"
        }
      ],
      "source": [
        "prop_limit = (0.02,0.95)\n",
        "WTP_limit = (350,1200)\n",
        "rent_limit = (450,750)\n",
        "sig_limit = (2,1000)\n",
        "\n",
        "limits = (prop_limit,prop_limit,WTP_limit,WTP_limit,WTP_limit,WTP_limit,rent_limit,sig_limit)\n",
        "\n",
        "con1 = {'type':'ineq','fun':constraint_UG}\n",
        "con2 = {'type':'ineq','fun':constraint_PG}\n",
        "#con4 = {'type':'eq','fun':constraint_WTP2}\n",
        "con5 = {'type':'eq','fun':constraint_demand}\n",
        "con6 = {'type':'eq','fun':constraint_elasticity}\n",
        "\n",
        "cons = [con1,con2,con5,con6]\n",
        "#print it out and debug the code\n",
        "#some places might not have the correct output \n",
        "# very interestig result through this combination [0.1,0.2,500,550,525,575,20,500]\n",
        "Guess = [0.1,0.2,500,550,525,575,20,500] #Prob_UGL,Prob_PGL, WTP_UGL, WTP_UGH,WTP_PGL,WTP_PGH, R, sig\n",
        "\n",
        "Results = minimize(objective,Guess,method='SLSQP', bounds=limits,constraints=cons)  # fsolve gives us the actual root regardless of the guess\n",
        "Results\n",
        "\n",
        "#(Prop_UGL,Prop_PGL, WTP_UGL, WTP_UGH, WTP_PGL, WTP_PGH, R,sig)\n"
      ]
    },
    {
      "cell_type": "code",
      "execution_count": null,
      "metadata": {
        "id": "9MqsT6C7gdzv"
      },
      "outputs": [],
      "source": [
        "def total_demand(Prop_UGL,Prop_PGL, WTP_UGL, WTP_UGH, WTP_PGL, WTP_PGH, R,sig):\n",
        "    total = (demand_UGL(Prop_UGL,WTP_UGL,sig,R)+demand_UGH(Prop_UGL,WTP_UGH,sig,R)+demand_PGL(Prop_PGL,WTP_PGL,sig,R)+demand_PGH(Prop_UGL,WTP_PGH,sig,R))\n",
        "    return total\n",
        "total_demand(1.73711735e-01, 4.93145402e-01, 5.47448811e+02, 8.45951944e+02,\n",
        "       4.67236793e+02, 7.65740121e+02, 5.79919399e+02, 1.63822990e+01)\n"
      ]
    },
    {
      "cell_type": "code",
      "execution_count": null,
      "metadata": {
        "colab": {
          "base_uri": "https://localhost:8080/"
        },
        "id": "xZqJKaLkgf7k",
        "outputId": "64f8cf79-7510-4bb3-8277-7fdd7545975f"
      },
      "outputs": [
        {
          "name": "stdout",
          "output_type": "stream",
          "text": [
            "6929.365498749628\n",
            "7000.000000023251\n"
          ]
        }
      ],
      "source": [
        "##demand_bin(Prop_binL,WTP_bin,sig,R)\n",
        "## Results in order of  Prop_UGL,Prop_PGL, WTP_UGL, WTP_UGH, WTP_PGL, WTP_PGH, R,sig\n",
        "end_UGL = demand_UGL(Results.x[0], Results.x[2], Results.x[7], Results.x[6])\n",
        "end_UGH = demand_UGH(Results.x[0], Results.x[3], Results.x[7], Results.x[6])\n",
        "end_PGL = demand_PGL(Results.x[1], Results.x[4], Results.x[7], Results.x[6])\n",
        "end_PGH = demand_PGH(Results.x[1], Results.x[5], Results.x[7], Results.x[6])\n",
        "print(end_UGL+end_UGH+end_PGL+end_PGH)\n",
        "\n",
        "a = total_demand(Results.x[0], Results.x[1], Results.x[2], Results.x[3], Results.x[4], Results.x[5], Results.x[6], Results.x[7])\n",
        "print(a)"
      ]
    },
    {
      "cell_type": "code",
      "execution_count": null,
      "metadata": {
        "colab": {
          "base_uri": "https://localhost:8080/"
        },
        "id": "2L1X2kyjiVHu",
        "outputId": "32d70339-81a0-4239-cff0-63514a47a29a"
      },
      "outputs": [
        {
          "name": "stdout",
          "output_type": "stream",
          "text": [
            "0.05830654123988201\n",
            "0.06359213107248532\n"
          ]
        }
      ],
      "source": [
        "print(end_PGL/total_students)\n",
        "print(end_PGH/total_students)"
      ]
    },
    {
      "cell_type": "code",
      "execution_count": null,
      "metadata": {
        "colab": {
          "base_uri": "https://localhost:8080/",
          "height": 175
        },
        "id": "ujdyKmNjgiDx",
        "outputId": "a909cc29-1749-4fac-fdcc-bafb7072e437"
      },
      "outputs": [
        {
          "data": {
            "text/html": [
              "\n",
              "  <div id=\"df-0f1e6219-e614-4b27-8f75-158f5bd9f018\">\n",
              "    <div class=\"colab-df-container\">\n",
              "      <div>\n",
              "<style scoped>\n",
              "    .dataframe tbody tr th:only-of-type {\n",
              "        vertical-align: middle;\n",
              "    }\n",
              "\n",
              "    .dataframe tbody tr th {\n",
              "        vertical-align: top;\n",
              "    }\n",
              "\n",
              "    .dataframe thead th {\n",
              "        text-align: right;\n",
              "    }\n",
              "</style>\n",
              "<table border=\"1\" class=\"dataframe\">\n",
              "  <thead>\n",
              "    <tr style=\"text-align: right;\">\n",
              "      <th></th>\n",
              "      <th>UGL</th>\n",
              "      <th>UGH</th>\n",
              "      <th>PGL</th>\n",
              "      <th>PGH</th>\n",
              "      <th>Total</th>\n",
              "    </tr>\n",
              "  </thead>\n",
              "  <tbody>\n",
              "    <tr>\n",
              "      <th>Proportion of Total Students Living in St. Andrews for Each Bin</th>\n",
              "      <td>0.237</td>\n",
              "      <td>0.3058</td>\n",
              "      <td>0.0583</td>\n",
              "      <td>0.0636</td>\n",
              "      <td>N/A</td>\n",
              "    </tr>\n",
              "    <tr>\n",
              "      <th>Proportion of St Andrews Rooms Let to Each Bin</th>\n",
              "      <td>0.353</td>\n",
              "      <td>0.4554</td>\n",
              "      <td>0.0868</td>\n",
              "      <td>0.0947</td>\n",
              "      <td>N/A</td>\n",
              "    </tr>\n",
              "    <tr>\n",
              "      <th>Willingness to Pay/Equilibrium Rent</th>\n",
              "      <td>724.600</td>\n",
              "      <td>824.6000</td>\n",
              "      <td>621.6300</td>\n",
              "      <td>721.6300</td>\n",
              "      <td>579.98</td>\n",
              "    </tr>\n",
              "    <tr>\n",
              "      <th>Number of Students Living in St Andrews</th>\n",
              "      <td>2471.000</td>\n",
              "      <td>3188.0000</td>\n",
              "      <td>608.0000</td>\n",
              "      <td>663.0000</td>\n",
              "      <td>7000.0</td>\n",
              "    </tr>\n",
              "  </tbody>\n",
              "</table>\n",
              "</div>\n",
              "      <button class=\"colab-df-convert\" onclick=\"convertToInteractive('df-0f1e6219-e614-4b27-8f75-158f5bd9f018')\"\n",
              "              title=\"Convert this dataframe to an interactive table.\"\n",
              "              style=\"display:none;\">\n",
              "        \n",
              "  <svg xmlns=\"http://www.w3.org/2000/svg\" height=\"24px\"viewBox=\"0 0 24 24\"\n",
              "       width=\"24px\">\n",
              "    <path d=\"M0 0h24v24H0V0z\" fill=\"none\"/>\n",
              "    <path d=\"M18.56 5.44l.94 2.06.94-2.06 2.06-.94-2.06-.94-.94-2.06-.94 2.06-2.06.94zm-11 1L8.5 8.5l.94-2.06 2.06-.94-2.06-.94L8.5 2.5l-.94 2.06-2.06.94zm10 10l.94 2.06.94-2.06 2.06-.94-2.06-.94-.94-2.06-.94 2.06-2.06.94z\"/><path d=\"M17.41 7.96l-1.37-1.37c-.4-.4-.92-.59-1.43-.59-.52 0-1.04.2-1.43.59L10.3 9.45l-7.72 7.72c-.78.78-.78 2.05 0 2.83L4 21.41c.39.39.9.59 1.41.59.51 0 1.02-.2 1.41-.59l7.78-7.78 2.81-2.81c.8-.78.8-2.07 0-2.86zM5.41 20L4 18.59l7.72-7.72 1.47 1.35L5.41 20z\"/>\n",
              "  </svg>\n",
              "      </button>\n",
              "      \n",
              "  <style>\n",
              "    .colab-df-container {\n",
              "      display:flex;\n",
              "      flex-wrap:wrap;\n",
              "      gap: 12px;\n",
              "    }\n",
              "\n",
              "    .colab-df-convert {\n",
              "      background-color: #E8F0FE;\n",
              "      border: none;\n",
              "      border-radius: 50%;\n",
              "      cursor: pointer;\n",
              "      display: none;\n",
              "      fill: #1967D2;\n",
              "      height: 32px;\n",
              "      padding: 0 0 0 0;\n",
              "      width: 32px;\n",
              "    }\n",
              "\n",
              "    .colab-df-convert:hover {\n",
              "      background-color: #E2EBFA;\n",
              "      box-shadow: 0px 1px 2px rgba(60, 64, 67, 0.3), 0px 1px 3px 1px rgba(60, 64, 67, 0.15);\n",
              "      fill: #174EA6;\n",
              "    }\n",
              "\n",
              "    [theme=dark] .colab-df-convert {\n",
              "      background-color: #3B4455;\n",
              "      fill: #D2E3FC;\n",
              "    }\n",
              "\n",
              "    [theme=dark] .colab-df-convert:hover {\n",
              "      background-color: #434B5C;\n",
              "      box-shadow: 0px 1px 3px 1px rgba(0, 0, 0, 0.15);\n",
              "      filter: drop-shadow(0px 1px 2px rgba(0, 0, 0, 0.3));\n",
              "      fill: #FFFFFF;\n",
              "    }\n",
              "  </style>\n",
              "\n",
              "      <script>\n",
              "        const buttonEl =\n",
              "          document.querySelector('#df-0f1e6219-e614-4b27-8f75-158f5bd9f018 button.colab-df-convert');\n",
              "        buttonEl.style.display =\n",
              "          google.colab.kernel.accessAllowed ? 'block' : 'none';\n",
              "\n",
              "        async function convertToInteractive(key) {\n",
              "          const element = document.querySelector('#df-0f1e6219-e614-4b27-8f75-158f5bd9f018');\n",
              "          const dataTable =\n",
              "            await google.colab.kernel.invokeFunction('convertToInteractive',\n",
              "                                                     [key], {});\n",
              "          if (!dataTable) return;\n",
              "\n",
              "          const docLinkHtml = 'Like what you see? Visit the ' +\n",
              "            '<a target=\"_blank\" href=https://colab.research.google.com/notebooks/data_table.ipynb>data table notebook</a>'\n",
              "            + ' to learn more about interactive tables.';\n",
              "          element.innerHTML = '';\n",
              "          dataTable['output_type'] = 'display_data';\n",
              "          await google.colab.output.renderOutput(dataTable, element);\n",
              "          const docLink = document.createElement('div');\n",
              "          docLink.innerHTML = docLinkHtml;\n",
              "          element.appendChild(docLink);\n",
              "        }\n",
              "      </script>\n",
              "    </div>\n",
              "  </div>\n",
              "  "
            ],
            "text/plain": [
              "                                                         UGL        UGH  \\\n",
              "Proportion of Total Students Living in St. Andr...     0.237     0.3058   \n",
              "Proportion of St Andrews Rooms Let to Each Bin         0.353     0.4554   \n",
              "Willingness to Pay/Equilibrium Rent                  724.600   824.6000   \n",
              "Number of Students Living in St Andrews             2471.000  3188.0000   \n",
              "\n",
              "                                                         PGL       PGH   Total  \n",
              "Proportion of Total Students Living in St. Andr...    0.0583    0.0636     N/A  \n",
              "Proportion of St Andrews Rooms Let to Each Bin        0.0868    0.0947     N/A  \n",
              "Willingness to Pay/Equilibrium Rent                 621.6300  721.6300  579.98  \n",
              "Number of Students Living in St Andrews             608.0000  663.0000  7000.0  "
            ]
          },
          "execution_count": 26,
          "metadata": {},
          "output_type": "execute_result"
        }
      ],
      "source": [
        "##outputs\n",
        "\n",
        "##proportions, WTP, number in (proportion*total # students)\n",
        "x = {'UGL': [np.round(end_UGL/total_students, decimals=4), np.round(end_UGL/a, decimals=4), np.round(Results.x[2], decimals=2), np.round(end_UGL, decimals=0)], \n",
        "     'UGH': [(np.round(end_UGH/total_students, decimals=4)), np.round(end_UGH/a, decimals=4), np.round(Results.x[3], decimals=2), np.round(end_UGH, decimals=0)], \n",
        "     'PGL': [np.round(end_PGL/total_students, decimals=4), np.round(end_PGL/a, decimals=4), np.round(Results.x[4], decimals=2), np.round(end_PGL, decimals=0)], \n",
        "     'PGH': [(np.round(end_PGH/total_students, decimals=4)), np.round(end_PGH/a, decimals=4), np.round(Results.x[5], decimals=2), np.round(end_PGH, decimals=0)], \n",
        "     'Total':['N/A', 'N/A', np.round(Results.x[6], decimals=2), np.round(a)]}\n",
        "index1 = ['Proportion of Total Students Living in St. Andrews for Each Bin', 'Proportion of St Andrews Rooms Let to Each Bin', 'Willingness to Pay/Equilibrium Rent', 'Number of Students Living in St Andrews']\n",
        "\n",
        "df = pd.DataFrame(data=x, index=index1)\n",
        "df"
      ]
    },
    {
      "cell_type": "markdown",
      "metadata": {
        "id": "avVlXjoCSbl9"
      },
      "source": [
        "# testing draft 5\n"
      ]
    },
    {
      "cell_type": "markdown",
      "metadata": {
        "id": "SURFdr2_VtKf"
      },
      "source": [
        "Changes made: \n",
        "\n",
        "\n",
        "*   switch R and sig guesses\n",
        "*   calculate proportion_bin with PSA\n",
        "\n"
      ]
    },
    {
      "cell_type": "code",
      "execution_count": null,
      "metadata": {
        "id": "kB32KIIuTDOH"
      },
      "outputs": [],
      "source": [
        "import matplotlib.pyplot as plt\n",
        "import numpy as np\n",
        "import math\n",
        "from scipy.optimize import fsolve\n",
        "import pandas as pd\n",
        "import sympy as sp\n",
        "# ^^^ these are the relevant libraries and packages\n"
      ]
    },
    {
      "cell_type": "code",
      "execution_count": null,
      "metadata": {
        "id": "_1gYl8EUTGj2"
      },
      "outputs": [],
      "source": [
        "\n",
        "Disutility_notSTA = -400 #disutility of not being in St Andrews\n",
        "Num_UG= 8260 # Number of undegrards\n",
        "Num_PG = 2164 # Number of postgrads\n",
        "\n",
        "Quantity = 7000  # number of available rooms\n",
        "e = math.e  # initialising eulers number\n"
      ]
    },
    {
      "cell_type": "code",
      "execution_count": null,
      "metadata": {
        "id": "YM2-TxZsUhC8"
      },
      "outputs": [],
      "source": [
        "total_students = Num_UG+Num_PG\n",
        "Prop_UG = Num_UG/total_students\n",
        "Prop_PG = Num_PG/total_students\n"
      ]
    },
    {
      "cell_type": "code",
      "execution_count": null,
      "metadata": {
        "id": "aYKDnuH3Ujhv"
      },
      "outputs": [],
      "source": [
        "def PSA(utility,sig,R): # return probability of being in STA based on the sigmoid function\n",
        "  return  (1-(1 / (1 + e**((utility - Disutility_notSTA -R)/sig))))\n",
        "  #implicit assumption made here that the error is logistically distributed\n"
      ]
    },
    {
      "cell_type": "code",
      "execution_count": null,
      "metadata": {
        "colab": {
          "base_uri": "https://localhost:8080/"
        },
        "id": "H5iEUpAvU42y",
        "outputId": "47c1419d-2d62-4545-ede1-7bf29558422f"
      },
      "outputs": [
        {
          "data": {
            "text/plain": [
              "0.9999999979388464"
            ]
          },
          "execution_count": 79,
          "metadata": {},
          "output_type": "execute_result"
        }
      ],
      "source": [
        "PSA(5.00e+02,2.00e+01, 5.00e+02 ) ##equlibrium probability of being in STA for UGL???"
      ]
    },
    {
      "cell_type": "code",
      "execution_count": null,
      "metadata": {
        "id": "vZ_pEE34UlE4"
      },
      "outputs": [],
      "source": [
        "def demand_UGL(Prop_UGL,WTP_UGL,sig,R):   # calculates demand for Undergrad Low income\n",
        "    UGL = Prop_UGL*Num_UG*(PSA(WTP_UGL,sig,R))\n",
        "    return UGL\n"
      ]
    },
    {
      "cell_type": "code",
      "execution_count": null,
      "metadata": {
        "id": "ZaiKiRRVUl2u"
      },
      "outputs": [],
      "source": [
        "def demand_UGH(Prop_UGL,WTP_UGH,sig,R):    # calculates demand for Undergrad High income\n",
        "    UGH = (1-Prop_UGL)*Num_UG*(PSA(WTP_UGH,sig,R))\n",
        "    return UGH\n"
      ]
    },
    {
      "cell_type": "code",
      "execution_count": null,
      "metadata": {
        "id": "7RWZVffBUmCl"
      },
      "outputs": [],
      "source": [
        "def demand_PGL(Prop_PGL,WTP_PGL,sig,R):  # calculates demand for Postgrad Low income\n",
        "    PGL = Prop_PGL*Num_PG*(PSA(WTP_PGL,sig,R))\n",
        "    return PGL\n"
      ]
    },
    {
      "cell_type": "code",
      "execution_count": null,
      "metadata": {
        "id": "oAXgruvxUoju"
      },
      "outputs": [],
      "source": [
        "def demand_PGH(Prop_PGL,WTP_PGH,sig,R):  # calculates demand for Postgrad high income\n",
        "    PGH = (1-Prop_PGL)*Num_PG*(PSA(WTP_PGH,sig,R))\n",
        "    return PGH\n"
      ]
    },
    {
      "cell_type": "code",
      "execution_count": null,
      "metadata": {
        "id": "CJ1D-8KzSfO_"
      },
      "outputs": [],
      "source": [
        "\n",
        "\n",
        "def equations(parameter): # returns all the relevant theoretical moments and parameters to fsolve\n",
        "    (Prop_UGL,Prop_PGL, WTP_UGL, WTP_UGH, WTP_PGL, WTP_PGH, R,sig) = parameter\n",
        "    \n",
        "    total_demand = demand_UGL(Prop_UGL,WTP_UGL,sig,R)+demand_UGH(Prop_UGL,WTP_UGH,sig,R)+demand_PGL(Prop_PGL,WTP_PGL,sig,R)\n",
        "    +demand_PGH(Prop_UGL,WTP_PGH,sig,R)\n",
        "    total_demand_2 = demand_UGL(Prop_UGL,WTP_UGL,sig,R+1)+demand_UGH(Prop_UGL,WTP_UGH,sig,R+1)+demand_PGL(Prop_PGL,WTP_PGL,sig,R+1)\n",
        "    +demand_PGH(Prop_UGL,WTP_PGH,sig,R+1)\n",
        "\n",
        "    ##Proportion_UGL = demand_UGL(Prop_UGL,WTP_UGL,sig,R)/(Prop_UGL*Num_UG) - 0.7\n",
        "    ##Proportion_UGH = demand_UGH(Prop_UGL,WTP_UGH,sig,R)/((1-Prop_UGL)*Num_UG) - 0.9\n",
        "    ##Proportion_PGL = demand_PGL(Prop_PGL,WTP_UGH,sig,R)/(Prop_PGL*Num_PG) - 0.6\n",
        "    ##Proportion_PGH = demand_PGH(Prop_PGL,WTP_PGH,sig,R)/((1-Prop_PGL)*Num_PG) - 0.8\n",
        "    Proportion_UGL = PSA(WTP_UGL, sig, R) - 0.7\n",
        "    Proportion_UGH = PSA(WTP_UGH, sig, R) -0.9\n",
        "    Proportion_PGL = PSA(WTP_PGL, sig, R) - 0.6\n",
        "    Proportion_PGH = PSA(WTP_PGL, sig, R) - 0.8\n",
        "    WTP_difference = WTP_UGL - WTP_UGH - WTP_PGL + WTP_PGH  # should ditch this \n",
        "    # need to add equilibrium \n",
        "    # 584.32 - In StA\n",
        "    # 480  - Out StA\n",
        "    Rent = R - 580\n",
        "    Market_clearing = total_demand-Quantity   # remove quantity as it's not independant\n",
        "    elasticity_D = (total_demand_2-total_demand)*R/(total_demand) - 0.76\n",
        "    ##Rent = (Prop_UGL*WTP_UGL +(1-Prop_UGL*WTP_UGH))*Prop_UG + (Prop_PGL*WTP_PGL +(1-Prop_PGL*WTP_PGH))*Prop_PG - 600  #DOUBT ABOUT THIS\n",
        "\n",
        "    list_of_equations = [Proportion_UGL,Proportion_UGH,Proportion_PGL,Proportion_PGH,WTP_difference,Market_clearing,elasticity_D, Rent]\n",
        "    return list_of_equations# returning the list of equations\n",
        "\n",
        "#print it out and debug the code\n",
        "#some places might not have the correct output\n",
        " \n",
        "\n"
      ]
    },
    {
      "cell_type": "code",
      "execution_count": null,
      "metadata": {
        "colab": {
          "base_uri": "https://localhost:8080/"
        },
        "id": "Zcv2eP02Uudr",
        "outputId": "bd1f3e32-e1cb-4224-c93c-1a1dc961ea1b"
      },
      "outputs": [
        {
          "name": "stdout",
          "output_type": "stream",
          "text": [
            "[1.00e-01 2.00e-01 5.00e+02 5.50e+02 5.25e+02 5.75e+02 5.00e+02 2.00e+01]\n"
          ]
        },
        {
          "name": "stderr",
          "output_type": "stream",
          "text": [
            "/usr/local/lib/python3.7/dist-packages/scipy/optimize/minpack.py:162: RuntimeWarning: The iteration is not making good progress, as measured by the \n",
            "  improvement from the last ten iterations.\n",
            "  warnings.warn(msg, RuntimeWarning)\n"
          ]
        }
      ],
      "source": [
        "# very interestig result through this combination [0.1,0.2,500,550,525,575,20,500]\n",
        "Guess = [0.1,0.2,500,550,525,575,500,20] #Prob_UGL,Prob_PGL, WTP_UGL, WTP_UGH,WTP_PGL,WTP_PGH, R, sig\n",
        "Results = fsolve(equations ,Guess)  # fsolve gives us the actual root regardless of the guess.\n",
        "print(Results)\n"
      ]
    },
    {
      "cell_type": "code",
      "execution_count": null,
      "metadata": {
        "colab": {
          "base_uri": "https://localhost:8080/"
        },
        "id": "lRovCk_Nbi46",
        "outputId": "e162aaa9-b179-4b36-a57e-cb3ffa73dbdd"
      },
      "outputs": [
        {
          "data": {
            "text/plain": [
              "500.0"
            ]
          },
          "execution_count": 78,
          "metadata": {},
          "output_type": "execute_result"
        }
      ],
      "source": [
        "Results[6]"
      ]
    },
    {
      "cell_type": "markdown",
      "metadata": {
        "id": "1xzClj_Xawsq"
      },
      "source": [
        "# #2"
      ]
    },
    {
      "cell_type": "code",
      "execution_count": null,
      "metadata": {
        "colab": {
          "base_uri": "https://localhost:8080/",
          "height": 235
        },
        "id": "hCRt63JIazv8",
        "outputId": "541041bb-0105-4c0e-dba0-e900335f61fe"
      },
      "outputs": [
        {
          "ename": "NameError",
          "evalue": "ignored",
          "output_type": "error",
          "traceback": [
            "\u001b[0;31m---------------------------------------------------------------------------\u001b[0m",
            "\u001b[0;31mNameError\u001b[0m                                 Traceback (most recent call last)",
            "\u001b[0;32m<ipython-input-7-cca605b388e2>\u001b[0m in \u001b[0;36m<module>\u001b[0;34m()\u001b[0m\n\u001b[1;32m     70\u001b[0m \u001b[0;31m##this is where I put the seven independent theoretical moments\u001b[0m\u001b[0;34m\u001b[0m\u001b[0;34m\u001b[0m\u001b[0;34m\u001b[0m\u001b[0m\n\u001b[1;32m     71\u001b[0m \u001b[0mR\u001b[0m \u001b[0;34m=\u001b[0m \u001b[0;36m658\u001b[0m \u001b[0;31m##setting equilibrium average rent constant\u001b[0m\u001b[0;34m\u001b[0m\u001b[0;34m\u001b[0m\u001b[0m\n\u001b[0;32m---> 72\u001b[0;31m \u001b[0mProp_in_UGL\u001b[0m \u001b[0;34m=\u001b[0m \u001b[0mnp\u001b[0m\u001b[0;34m.\u001b[0m\u001b[0mround\u001b[0m\u001b[0;34m(\u001b[0m\u001b[0mdemand_UGL\u001b[0m\u001b[0;34m(\u001b[0m\u001b[0mR\u001b[0m\u001b[0;34m,\u001b[0m \u001b[0mWTP_UGL\u001b[0m\u001b[0;34m)\u001b[0m\u001b[0;34m/\u001b[0m\u001b[0;34m(\u001b[0m\u001b[0mProp_UGL\u001b[0m\u001b[0;34m*\u001b[0m\u001b[0mNum_UG\u001b[0m\u001b[0;34m)\u001b[0m\u001b[0;34m)\u001b[0m\u001b[0;34m\u001b[0m\u001b[0;34m\u001b[0m\u001b[0m\n\u001b[0m\u001b[1;32m     73\u001b[0m \u001b[0mProp_in_UGL\u001b[0m \u001b[0;34m=\u001b[0m \u001b[0;36m0.8\u001b[0m    \u001b[0;31m##need the constant for all from data team Prop_in_UGL\u001b[0m\u001b[0;34m\u001b[0m\u001b[0;34m\u001b[0m\u001b[0m\n\u001b[1;32m     74\u001b[0m \u001b[0mProp_in_UGH\u001b[0m \u001b[0;34m=\u001b[0m \u001b[0mnp\u001b[0m\u001b[0;34m.\u001b[0m\u001b[0mround\u001b[0m\u001b[0;34m(\u001b[0m\u001b[0mdemand_UGH\u001b[0m\u001b[0;34m(\u001b[0m\u001b[0mR\u001b[0m\u001b[0;34m,\u001b[0m \u001b[0mWTP_UGH\u001b[0m\u001b[0;34m)\u001b[0m\u001b[0;34m/\u001b[0m\u001b[0;34m(\u001b[0m\u001b[0mProp_UGH\u001b[0m\u001b[0;34m*\u001b[0m\u001b[0mNum_UG\u001b[0m\u001b[0;34m)\u001b[0m \u001b[0;34m)\u001b[0m\u001b[0;34m\u001b[0m\u001b[0;34m\u001b[0m\u001b[0m\n",
            "\u001b[0;31mNameError\u001b[0m: name 'WTP_UGL' is not defined"
          ]
        }
      ],
      "source": [
        "import matplotlib.pyplot as plt\n",
        "import numpy as np\n",
        "import math\n",
        "from scipy.optimize import fsolve\n",
        "import pandas as pd\n",
        "# ^^^ these are the relevant libraries and packages\n",
        "\n",
        "\n",
        "##trying to calibrate these, so don't run them\n",
        "##Prop_UGL = 0.2 # Proportion of UGLs\n",
        "##Prop_UGH = 1-Prop_UGL # Proportion of UGHs\n",
        "##Prop_PGL = 0.3  # Proportion of PGLs\n",
        "##Prop_PGH = 1-Prop_PGL #Proportion of PGHs\n",
        "\n",
        "##^^these seem a little weird, are we sure those are even close \n",
        "##if changed, remember to change in the guess array as well\n",
        "\n",
        "\n",
        "\n",
        "\n",
        "\n",
        "Disutility_notSTA = -400 #disutility of not being in St Andrews\n",
        "I_low = 20000  #low income\n",
        "I_high = 40000+10000 #high income\n",
        "D_UG = 1  # degree UG = 1\n",
        "D_PG = 0 #degree PG = 0\n",
        "Num_UG= 8260 # Number of undegrards\n",
        "Num_PG = 2164 # Number of postgrads\n",
        "\n",
        "##add these back in later\n",
        "##Prop_UG_L = Num_UG      ##proportion of total undergrads that are low income\n",
        "##Prop_PG_L\n",
        "\n",
        "#NOTE: UGL - undergrad low income, PGL - postgrad low income and so on\n",
        "# this naming convention is followed throughout the code\n",
        "\n",
        "Quantity = 7000  # number of available rooms\n",
        "e = math.e  # initialising eulers number\n",
        "##R_guess = 666  # my guess for what equilibirum rent is\n",
        "##^^I took out R_guess because we're not calibrating R right now, correct?\n",
        "\n",
        "\n",
        "\n",
        "def PSA(utility, sig): # return probability of being in STA based on the sigmoid function\n",
        "  return  (1-1 / (1 + e**((utility - Disutility_notSTA)/sig)))\n",
        "  #implicit assumption made here that the error is logistically distributed\n",
        "\n",
        "#NOTE: from here on out \"R\" is used in several functions\n",
        "# R is Equilibrium Rent we are trying to solve for\n",
        "def demand_UGL(R, WTP_UGL, Prop_UGL, sig):   # calculates demand for Undergrad Low income\n",
        "    UGL = Prop_UGL*Num_UG*(PSA(WTP_UGL, sig))\n",
        "    return UGL\n",
        "def demand_UGH(R, WTP_UGH, Prop_UGL, sig):    # calculates demand for Undergrad High income\n",
        "    UGH = (1-Prop_UGL)*Num_UG*(PSA(WTP_UGH, sig))\n",
        "    return UGH\n",
        "def demand_PGL(R, WTP_PGL, Prop_PGL, sig):  # calculates demand for Postgrad Low income\n",
        "    PGL = Prop_PGL*Num_PG*(PSA(WTP_PGL, sig))\n",
        "    return PGL\n",
        "def demand_PGH(R, WTP_PGH, Prop_PGL, sig):  # calculates demand for Postgrad high income\n",
        "    PGH = (1-Prop_PGL)*Num_PG*(PSA(WTP_PGH, sig))\n",
        "    return PGH\n",
        "\n",
        "def total_demand(R, WTP_UGL, WTP_UGH, WTP_PGL, WTP_PGH, Prop_UGL, Prop_PGL, sig): # sums all the other demand to give total demand\n",
        "    total_demand = demand_UGL(R, WTP_UGL, Prop_UGL, sig)+demand_UGH(R, WTP_UGH, Prop_UGL, sig)+demand_PGL(R, WTP_PGL, Prop_PGL, sig)+demand_PGH(R, WTP_PGH, Prop_PGL, sig)\n",
        "    return total_demand-Quantity # returning the total demand - Quantity\n",
        "    # We subtract Quantity here because fsolve solves for the roots\n",
        "\n",
        "\n",
        "\n",
        "##this is where I put the seven independent theoretical moments \n",
        "R = 658 ##setting equilibrium average rent constant\n",
        "Prop_in_UGL = np.round(demand_UGL(R, WTP_UGL)/(Prop_UGL*Num_UG))\n",
        "Prop_in_UGL = 0.8    ##need the constant for all from data team Prop_in_UGL \n",
        "Prop_in_UGH = np.round(demand_UGH(R, WTP_UGH)/(Prop_UGH*Num_UG) )\n",
        "Prop_in_UGH = 1   ##Prop_in_UGH\n",
        "Prop_in_PGL =np.round(demand_PGL(R, WTP_PGL)/(Prop_PGL*Num_PG)) \n",
        "Prop_in_PGL = 0.4   ##Prop_in_PGL \n",
        "Prop_in_PGH = np.round(demand_PGH(R, WTP_PGH)/(Prop_PGH*Num_PG)) \n",
        "Prop_in_PGH = 0.7   ##Prop_in_PGH \n",
        "\n",
        "premium = abs(WTP_UGH-WTP_UGL) - abs(WTP_PGH-WTP_PGL)\n",
        "premium = 0\n",
        "elasticity_D = (R/total_demand(R))*(sp.diff(total_demand(R))) \n",
        "elasticity_D = 0.76   ##elasticity constant from last year's report\n",
        "\n",
        "\n",
        "##calibration, starting just w/ willingness to pay\n",
        "\n",
        "##after we figure out WTP, we can add in var_error and proportions\n",
        "Var_error = variance(sig)\n",
        "##I have no idea how to add in the proportion of undergrads \n",
        "##that are low income and proportion of postgrads that are low income\n",
        "\n",
        "\n",
        "array1 = np.array([WTP_UGL, WTP_UGH, WTP_PGL, WTP_PGH, Var_error, Prop_UGL, Prop_PGL])\n",
        "\n",
        "array2 = np.array([400, 700, 300, 600, 20, 0.2, 0.3]) ##guesses\n",
        "R = fsolve(array1,array2)  # fsolve gives us the actual root regardless of the guess.\n",
        "\n"
      ]
    },
    {
      "cell_type": "markdown",
      "metadata": {
        "id": "OuuMEmlFasfg"
      },
      "source": [
        "# #1"
      ]
    },
    {
      "cell_type": "code",
      "execution_count": null,
      "metadata": {
        "colab": {
          "base_uri": "https://localhost:8080/",
          "height": 235
        },
        "id": "xV36m8Wq2Dz2",
        "outputId": "dab682b2-73ba-4148-a1a5-f3d606fcf06f"
      },
      "outputs": [
        {
          "ename": "NameError",
          "evalue": "ignored",
          "output_type": "error",
          "traceback": [
            "\u001b[0;31m---------------------------------------------------------------------------\u001b[0m",
            "\u001b[0;31mNameError\u001b[0m                                 Traceback (most recent call last)",
            "\u001b[0;32m<ipython-input-6-5117dd71f1d7>\u001b[0m in \u001b[0;36m<module>\u001b[0;34m()\u001b[0m\n\u001b[1;32m     12\u001b[0m \u001b[0;34m\u001b[0m\u001b[0m\n\u001b[1;32m     13\u001b[0m \u001b[0;34m\u001b[0m\u001b[0m\n\u001b[0;32m---> 14\u001b[0;31m \u001b[0mu_UGL\u001b[0m \u001b[0;34m=\u001b[0m \u001b[0mcoef_I\u001b[0m\u001b[0;34m*\u001b[0m\u001b[0mI_low\u001b[0m\u001b[0;34m-\u001b[0m\u001b[0mcoef_R\u001b[0m\u001b[0;34m*\u001b[0m\u001b[0mR\u001b[0m\u001b[0;34m+\u001b[0m\u001b[0mcoef_D\u001b[0m\u001b[0;34m*\u001b[0m\u001b[0mD_UG\u001b[0m\u001b[0;34m\u001b[0m\u001b[0;34m\u001b[0m\u001b[0m\n\u001b[0m\u001b[1;32m     15\u001b[0m \u001b[0mu_UGH\u001b[0m \u001b[0;34m=\u001b[0m \u001b[0mcoef_I\u001b[0m\u001b[0;34m*\u001b[0m\u001b[0mI_high\u001b[0m\u001b[0;34m-\u001b[0m\u001b[0mcoef_R\u001b[0m\u001b[0;34m*\u001b[0m\u001b[0mR\u001b[0m\u001b[0;34m+\u001b[0m\u001b[0mcoef_D\u001b[0m\u001b[0;34m*\u001b[0m\u001b[0mD_UG\u001b[0m\u001b[0;34m\u001b[0m\u001b[0;34m\u001b[0m\u001b[0m\n\u001b[1;32m     16\u001b[0m \u001b[0mu_PGL\u001b[0m \u001b[0;34m=\u001b[0m \u001b[0mcoef_I\u001b[0m\u001b[0;34m*\u001b[0m\u001b[0mI_low\u001b[0m\u001b[0;34m-\u001b[0m\u001b[0mcoef_R\u001b[0m\u001b[0;34m*\u001b[0m\u001b[0mR\u001b[0m\u001b[0;34m+\u001b[0m\u001b[0mcoef_D\u001b[0m\u001b[0;34m*\u001b[0m\u001b[0mD_PG\u001b[0m\u001b[0;34m\u001b[0m\u001b[0;34m\u001b[0m\u001b[0m\n",
            "\u001b[0;31mNameError\u001b[0m: name 'R' is not defined"
          ]
        }
      ],
      "source": [
        "##utilities from the prevous model\n",
        "coef_I = 7/5000   # Income coefficient\n",
        "coef_R = 1 # Rent coefficient\n",
        "coef_D = 40  # degree coefficient\n",
        "Disutility_notSTA = -400 #disutility of not being in St Andrews\n",
        "I_low = 20000  #low income\n",
        "I_high = 40000+10000 #high income\n",
        "D_UG = 1  # degree UG = 1\n",
        "D_PG = 0 #degree PG = 0\n",
        "Num_UG= 8260 # Number of undegrards\n",
        "Num_PG = 2164 # Number of postgrads\n",
        "\n",
        "\n",
        "u_UGL = coef_I*I_low-coef_R*R+coef_D*D_UG\n",
        "u_UGH = coef_I*I_high-coef_R*R+coef_D*D_UG\n",
        "u_PGL = coef_I*I_low-coef_R*R+coef_D*D_PG\n",
        "u_PGH = coef_I*I_high-coef_R*R+coef_D*D_PG\n"
      ]
    },
    {
      "cell_type": "code",
      "execution_count": null,
      "metadata": {
        "colab": {
          "base_uri": "https://localhost:8080/",
          "height": 235
        },
        "id": "PEATWjLcaE2r",
        "outputId": "6b9b6f58-5c0e-40de-b418-a31fd8082275"
      },
      "outputs": [
        {
          "ename": "NameError",
          "evalue": "ignored",
          "output_type": "error",
          "traceback": [
            "\u001b[0;31m---------------------------------------------------------------------------\u001b[0m",
            "\u001b[0;31mNameError\u001b[0m                                 Traceback (most recent call last)",
            "\u001b[0;32m<ipython-input-6-1844d517852c>\u001b[0m in \u001b[0;36m<module>\u001b[0;34m()\u001b[0m\n\u001b[1;32m     58\u001b[0m     \u001b[0;31m# We subtract Quantity here because fsolve solves for the roots\u001b[0m\u001b[0;34m\u001b[0m\u001b[0;34m\u001b[0m\u001b[0;34m\u001b[0m\u001b[0m\n\u001b[1;32m     59\u001b[0m \u001b[0;34m\u001b[0m\u001b[0m\n\u001b[0;32m---> 60\u001b[0;31m \u001b[0marray1\u001b[0m \u001b[0;34m=\u001b[0m \u001b[0mnp\u001b[0m\u001b[0;34m.\u001b[0m\u001b[0marray\u001b[0m\u001b[0;34m(\u001b[0m\u001b[0;34m[\u001b[0m\u001b[0mtotal_demand\u001b[0m\u001b[0;34m,\u001b[0m \u001b[0mProp_UGL\u001b[0m\u001b[0;34m,\u001b[0m \u001b[0mProp_PGL\u001b[0m\u001b[0;34m]\u001b[0m\u001b[0;34m)\u001b[0m\u001b[0;34m\u001b[0m\u001b[0;34m\u001b[0m\u001b[0m\n\u001b[0m\u001b[1;32m     61\u001b[0m \u001b[0marray2\u001b[0m \u001b[0;34m=\u001b[0m \u001b[0mnp\u001b[0m\u001b[0;34m.\u001b[0m\u001b[0marray\u001b[0m\u001b[0;34m(\u001b[0m\u001b[0;34m[\u001b[0m\u001b[0;36m500\u001b[0m\u001b[0;34m,\u001b[0m \u001b[0;36m.2\u001b[0m\u001b[0;34m,\u001b[0m \u001b[0;36m.3\u001b[0m\u001b[0;34m]\u001b[0m\u001b[0;34m)\u001b[0m\u001b[0;34m\u001b[0m\u001b[0;34m\u001b[0m\u001b[0m\n\u001b[1;32m     62\u001b[0m \u001b[0mR\u001b[0m \u001b[0;34m=\u001b[0m \u001b[0mfsolve\u001b[0m\u001b[0;34m(\u001b[0m\u001b[0marray1\u001b[0m\u001b[0;34m,\u001b[0m\u001b[0marray2\u001b[0m\u001b[0;34m)\u001b[0m  \u001b[0;31m# fsolve gives us the actual root regardless of the guess.\u001b[0m\u001b[0;34m\u001b[0m\u001b[0;34m\u001b[0m\u001b[0m\n",
            "\u001b[0;31mNameError\u001b[0m: name 'Prop_UGL' is not defined"
          ]
        }
      ],
      "source": [
        "##we still don't have the data to actually complete it, but there's still a lot to do here\n",
        "##mostly because I'm not 100% sure what I'm doing\n",
        "\n",
        "import matplotlib.pyplot as plt\n",
        "import numpy as np\n",
        "import math\n",
        "from scipy.optimize import fsolve\n",
        "import pandas as pd\n",
        "# ^^^ these are the relevant libraries and packages\n",
        "\n",
        "\n",
        "\n",
        "## can't assign sig this value now, sig = 20 #variance/SD  for error term   .\n",
        "##check my math\n",
        "sig = (utility-Disutility_notSTA)/np.log(np.exp(Prob_in))\n",
        "##Prob_in is the probability of being in town as calculated by the PSA, I'm not sure how this is going to work, I definetly messed up\n",
        "\n",
        "Disutility_notSTA = -400 #disutility of not being in St Andrews\n",
        "I_low = 20000  #low income\n",
        "I_high = 40000+10000 #high income\n",
        "D_UG = 1  # degree UG = 1\n",
        "D_PG = 0 #degree PG = 0\n",
        "Num_UG= 8260 # Number of undegrards\n",
        "Num_PG = 2164 # Number of postgrads\n",
        "\n",
        "#NOTE: UGL - undergrad low income, PGL - postgrad low income and so on\n",
        "# this naming convention is followed throughout the code\n",
        "\n",
        "\n",
        "##remove the props so we can solve for that later. We still need to define them but I'm not sure how to go about doing that\n",
        "        ##Prop_UGL = 0.2 # Proportion of UGLs\n",
        "        ##Prop_UGH = 1-Prop_UGL # Proportion of UGHs\n",
        "        ##Prop_PGL = 0.3  # Proportion of PGLs\n",
        "        ##Prop_PGH = 1-Prop_PGL #Proportion of PGHs\n",
        "Quantity = 7000  # number of available rooms\n",
        "e = math.e  # initialising eulers number\n",
        "R_guess = 500   # my guess for what equilibirum rent is\n",
        "\n",
        "def PSA(utility): # return probability of being in STA based on the sigmoid function\n",
        "  return  (1-1 / (1 + e**((utility - Disutility_notSTA)/sig)))\n",
        "  #implicit assumption made here that the error is logistically distributed\n",
        "\n",
        "#NOTE: from here on out \"R\" is used in several functions\n",
        "# R is Equilibrium Rent we are trying to solve for\n",
        "def demand_UGL(R, Prop_UGL):   # calculates demand for Undergrad Low income\n",
        "    UGL = Prop_UGL*Num_UG*(PSA(coef_I*I_low-coef_R*R+coef_D*D_UG))\n",
        "    return UGL\n",
        "def demand_UGH(R, Prop_UGL):    # calculates demand for Undergrad High income\n",
        "    Prop_UGH = 1-Prop_UGL\n",
        "    UGH = Prop_UGH*Num_UG*(PSA(coef_I*I_high-coef_R*R+coef_D*D_UG))\n",
        "    return UGH\n",
        "def demand_PGL(R, Prop_PGL):  # calculates demand for Postgrad Low income\n",
        "    PGL = Prop_PGL*Num_PG*(PSA(coef_I*I_low-coef_R*R+coef_D*D_PG))\n",
        "    return PGL\n",
        "def demand_PGH(R, Prop_PGL):  # calculates demand for Postgrad high income\n",
        "    Prop_PGH = 1-Prop_PGL\n",
        "    PGH = Prop_PGH*Num_PG*(PSA(coef_I*I_high-coef_R*R+coef_D*D_PG))\n",
        "    return PGH\n",
        "\n",
        "def total_demand(R): # sums all the other demand to give total demand\n",
        "    total_demand = demand_UGL(R)+demand_UGH(R)+demand_PGL(R)+demand_PGH(R)\n",
        "    return total_demand-Quantity # returning the total demand - Quantity\n",
        "    # We subtract Quantity here because fsolve solves for the roots\n",
        "\n",
        "\n",
        "##guesses\n",
        "guess_WTP_UGL = 500  ##I totally made this up\n",
        "guess_WTP_UGH = 700\n",
        "guess_WTP_PGL = 500\n",
        "guess_WTP_PGH = 700\n",
        "guess_Prop_UG_L = .2\n",
        "guess_Prop_PG_L = .3\n",
        "guess_Var_error = 20\n",
        "\n",
        "\n",
        "array1 = np.array([total_demand, Prop_UGL, Prop_PGL])\n",
        "array2 = np.array([500, .2, .3])\n",
        "R = fsolve(array1,array2)  # fsolve gives us the actual root regardless of the guess.\n",
        "# the guess is just used to hint at which side of the root we may want -ve or +ve\n",
        "print(\"Equilibrium Rent :\" +str(R))\n"
      ]
    },
    {
      "cell_type": "code",
      "execution_count": null,
      "metadata": {
        "colab": {
          "base_uri": "https://localhost:8080/",
          "height": 131
        },
        "id": "Peomm3JRLrua",
        "outputId": "5e45cc9d-41a9-4313-f835-614137ee0c65"
      },
      "outputs": [
        {
          "ename": "SyntaxError",
          "evalue": "ignored",
          "output_type": "error",
          "traceback": [
            "\u001b[0;36m  File \u001b[0;32m\"<ipython-input-3-49e3d3f8a4dc>\"\u001b[0;36m, line \u001b[0;32m4\u001b[0m\n\u001b[0;31m    np.round(demand_UGH(R)/(Prop_UGH*Num_UG) = 1 ##Prop_in_UGH\u001b[0m\n\u001b[0m     ^\u001b[0m\n\u001b[0;31mSyntaxError\u001b[0m\u001b[0;31m:\u001b[0m invalid syntax\n"
          ]
        }
      ],
      "source": [
        "##this is where I put the seven independent theoretical moments \n",
        "R = 658 ##setting equilibrium average rent constant\n",
        "np.round(demand_UGL(R)/(Prop_UGL*Num_UG) = 0.8 ##need the constant for all from data team Prop_in_UGL \n",
        "np.round(demand_UGH(R)/(Prop_UGH*Num_UG) = 1   ##Prop_in_UGH\n",
        "np.round(demand_PGL(R)/(Prop_PGL*Num_PG) = 0.4   ##Prop_in_PGL \n",
        "np.round(demand_PGH(R)/(Prop_PGH*Num_PG) = 0.7   ##Prop_in_PGH \n",
        "abs(WTP_UGH-WTP_UGL) = abs(WTP_PGH-WTP_PGL)\n",
        "(R/total_demand(R))*(sp.diff(total_demand(R))) = 0.76   ##elasticity constant from last year's report"
      ]
    },
    {
      "cell_type": "code",
      "execution_count": null,
      "metadata": {
        "id": "U3NvjSUtttrG"
      },
      "outputs": [],
      "source": [
        "##guesses\n",
        "guess_WTP_UGL = 500  ##I totally made this up\n",
        "guess_WTP_UGH = 700\n",
        "guess_WTP_PGL = 500\n",
        "guess_WTP_PGH = 700\n",
        "guess_Prop_UG_L = .2\n",
        "guess_Prop_PG_L = .3\n",
        "guess_Var_error = 20"
      ]
    },
    {
      "cell_type": "code",
      "execution_count": null,
      "metadata": {
        "id": "xiezhs5s4OEe"
      },
      "outputs": [],
      "source": [
        "##x0 gives the guess to the fsolve\n",
        "x0 = ([guess_WTP_UGL, guess_WTP_UGH, guess_WTP_PGL, guess_WTP_PGH, guess_Prop_UG_L, guess_Prop_PG_L, guess_Var_error])\n",
        "def calibrate(x): ## this is where I put the seven parameters and return as an array\n",
        "  WTP_UGL =  ##equation =0 because fsolve finds roots, but I'm not sure what that equation should be\n",
        "  WTP_UGH\n",
        "  WTP_PGL\n",
        "  WTP_PGH\n",
        "  Prop_UG_L = Num_UG      ##proportion of total undergrads that are low income\n",
        "  Prop_PG_L\n",
        "  Var_error = variance(sig)\n",
        "  return np.array([WTP_UGL, WTP_UGH, WTP_PGL, WTP_PGH, Prop_UG_L, Prop_PG_L, Var_error])\n",
        "\n",
        "\n",
        "x = fsolve(calibrate, x0) ##should = 0\n"
      ]
    },
    {
      "cell_type": "code",
      "execution_count": null,
      "metadata": {
        "id": "z-No9XSL4OgY"
      },
      "outputs": [],
      "source": [
        "##results\n",
        "WTP_UGL = x[0]\n",
        "WTP_UGH = x[1]\n",
        "WTP_PGL = x[2]\n",
        "WTP_PGH = x[3]\n",
        "Prop_UGL_in = x[4]\n",
        "Prop_PGL_in = x[5]\n",
        "Var_error = x[6]\n",
        "print(WTP_UGL, WTP_UGH, WTP_PGL, WTP_PGH, Prop_UGL_in, Prop_PGL_in, Var_error, calibrate(x))\n",
        "\n"
      ]
    }
  ],
  "metadata": {
    "colab": {
      "name": "VIP_calibration_testing",
      "toc_visible": true,
      "provenance": [],
      "include_colab_link": true
    },
    "kernelspec": {
      "display_name": "Python 3",
      "name": "python3"
    },
    "language_info": {
      "name": "python"
    }
  },
  "nbformat": 4,
  "nbformat_minor": 0
}